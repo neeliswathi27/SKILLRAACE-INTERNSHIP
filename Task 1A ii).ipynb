{
  "cells": [
    {
      "cell_type": "code",
      "execution_count": null,
      "id": "ea46591b",
      "metadata": {
        "id": "ea46591b"
      },
      "outputs": [],
      "source": [
        "import numpy as np\n",
        "import pandas as pd\n",
        "from sklearn import preprocessing as pre\n",
        "import time\n",
        "from sklearn.model_selection import train_test_split\n",
        "import matplotlib.pyplot as plt\n",
        "from sklearn.utils import shuffle"
      ]
    },
    {
      "cell_type": "code",
      "execution_count": null,
      "id": "85c70b7b",
      "metadata": {
        "colab": {
          "base_uri": "https://localhost:8080/"
        },
        "id": "85c70b7b",
        "outputId": "8bf11537-5b81-4cb4-aa6b-c2eae5f5f15a"
      },
      "outputs": [
        {
          "output_type": "stream",
          "name": "stdout",
          "text": [
            "...............Reading the Dataset  and Dataset Pre-Processing ................\n"
          ]
        }
      ],
      "source": [
        "print(\"...............Reading the Dataset  and Dataset Pre-Processing ................\")\n",
        "start_time = time.time()\n",
        "dataset = shuffle(pd.read_csv(\"/content/data_banknote_authentication.txt\"))"
      ]
    },
    {
      "cell_type": "code",
      "execution_count": null,
      "id": "7d7f7598",
      "metadata": {
        "id": "7d7f7598"
      },
      "outputs": [],
      "source": [
        "dataset.columns = [\"Variance of Wavelet Transformed image\", \"Skewness of Wavelet Transformed image\",\n",
        "                \"Curtosis of Wavelet Transformed image\", \"Entropy of image\",\"Class\"]"
      ]
    },
    {
      "cell_type": "code",
      "execution_count": null,
      "id": "f6c8772d",
      "metadata": {
        "lines_to_next_cell": 2,
        "id": "f6c8772d"
      },
      "outputs": [],
      "source": [
        "# Changing the values of the class to -1 and 1 for tanh activation function\n",
        "dataset.loc[dataset['Class'] == 1, 'Class'] = -1\n",
        "dataset.loc[dataset['Class'] == 0, 'Class'] = 1"
      ]
    },
    {
      "cell_type": "code",
      "execution_count": null,
      "id": "4a4b58e8",
      "metadata": {
        "id": "4a4b58e8"
      },
      "outputs": [],
      "source": [
        "x = dataset[[\"Variance of Wavelet Transformed image\",\"Skewness of Wavelet Transformed image\",\"Curtosis of Wavelet Transformed image\",\"Entropy of image\"]]\n",
        "y = dataset[['Class']]"
      ]
    },
    {
      "cell_type": "code",
      "execution_count": null,
      "id": "fdbfc581",
      "metadata": {
        "lines_to_next_cell": 2,
        "colab": {
          "base_uri": "https://localhost:8080/"
        },
        "id": "fdbfc581",
        "outputId": "014ff4ef-5aaa-46f7-8230-da76e20bb018"
      },
      "outputs": [
        {
          "output_type": "stream",
          "name": "stdout",
          "text": [
            "Shape of X_Train :  (1096, 4)\n",
            "Shape of Train class :  (1096, 1)\n",
            "Shape of X_test :  (275, 4)\n",
            "Shape of Test class :  (275, 1)\n"
          ]
        }
      ],
      "source": [
        "x_train, x_test, y_train, y_test = train_test_split(x, y, test_size= 0.2, random_state=4)\n",
        "print('Shape of X_Train : ', x_train.shape)\n",
        "print('Shape of Train class : ', y_train.shape)\n",
        "print('Shape of X_test : ', x_test.shape)\n",
        "print('Shape of Test class : ', y_test.shape)"
      ]
    },
    {
      "cell_type": "code",
      "execution_count": null,
      "id": "269dd8d7",
      "metadata": {
        "id": "269dd8d7"
      },
      "outputs": [],
      "source": [
        "# Normalizing data using Standard Scaler Fit Transform\n",
        "x_train = pre.StandardScaler().fit_transform(x_train)\n",
        "x_test = pre.StandardScaler().fit_transform(x_test)"
      ]
    },
    {
      "cell_type": "code",
      "execution_count": null,
      "id": "dea9deed",
      "metadata": {
        "id": "dea9deed"
      },
      "outputs": [],
      "source": [
        "# Converting pd dataframe to numpy array to match compatibility\n",
        "y_train = y_train.to_numpy()\n",
        "y_test = y_test.to_numpy()"
      ]
    },
    {
      "cell_type": "code",
      "execution_count": null,
      "id": "0ca5a04e",
      "metadata": {
        "lines_to_next_cell": 1,
        "colab": {
          "base_uri": "https://localhost:8080/"
        },
        "id": "0ca5a04e",
        "outputId": "e3170716-75c4-4693-836b-5faab10d7cab"
      },
      "outputs": [
        {
          "output_type": "stream",
          "name": "stdout",
          "text": [
            "Time Cost for Pre-processing and Reading the Dataset: 0.138644 seconds \n",
            " \n"
          ]
        }
      ],
      "source": [
        "end_time = time.time()\n",
        "total_time = end_time - start_time\n",
        "print(\"Time Cost for Pre-processing and Reading the Dataset: %f seconds \\n \" % total_time)"
      ]
    },
    {
      "cell_type": "code",
      "execution_count": null,
      "id": "56b98195",
      "metadata": {
        "lines_to_next_cell": 1,
        "id": "56b98195"
      },
      "outputs": [],
      "source": [
        "# Hyperbolic Tangent Activation function\n",
        "def hyperbolic_tanh(x):\n",
        "  return (np.exp(x) - np.exp(-x))/(np.exp(x) + np.exp(-x))"
      ]
    },
    {
      "cell_type": "code",
      "execution_count": null,
      "id": "6a1b7223",
      "metadata": {
        "id": "6a1b7223"
      },
      "outputs": [],
      "source": [
        "# Hyperbolic derivative\n",
        "def derivative_hyperbolic(x):\n",
        "  return 1 - hyperbolic_tanh(x) * hyperbolic_tanh(x)"
      ]
    },
    {
      "cell_type": "code",
      "execution_count": null,
      "id": "bafa877d",
      "metadata": {
        "colab": {
          "base_uri": "https://localhost:8080/"
        },
        "id": "bafa877d",
        "outputId": "592b43e8-e840-4ca3-8fe1-810ef4b91494"
      },
      "outputs": [
        {
          "output_type": "stream",
          "name": "stdout",
          "text": [
            "............... Initializing hyperparameters ................\n"
          ]
        }
      ],
      "source": [
        "print(\"............... Initializing hyperparameters ................\")\n",
        "start_time = time.time()\n",
        "# Setting Hyperparameters\n",
        "np.random.seed(10)\n",
        "inp = 4\n",
        "hd = 6\n",
        "out = 1"
      ]
    },
    {
      "cell_type": "code",
      "execution_count": null,
      "id": "665ff840",
      "metadata": {
        "id": "665ff840"
      },
      "outputs": [],
      "source": [
        "actual_out_size = y_train.size\n",
        "epochs = 10000\n",
        "eta = 0.001\n",
        "alpha = 0.7"
      ]
    },
    {
      "cell_type": "code",
      "execution_count": null,
      "id": "249cae0c",
      "metadata": {
        "lines_to_next_cell": 2,
        "colab": {
          "base_uri": "https://localhost:8080/"
        },
        "id": "249cae0c",
        "outputId": "84edcf53-fe62-4642-ef71-6f41c439e9ea"
      },
      "outputs": [
        {
          "output_type": "stream",
          "name": "stdout",
          "text": [
            "............... Setting 4 weights for hidden layers ................\n"
          ]
        }
      ],
      "source": [
        "print(\"............... Setting 4 weights for hidden layers ................\")\n",
        "# Setting random weights for 4 hidden layers\n",
        "w1_l1 = np.random.randn(inp, hd)\n",
        "w2_l2 = np.random.randn(hd, hd)\n",
        "w3_l3 = np.random.randn(hd, hd)\n",
        "w4_l4 = np.random.randn(hd, hd)\n",
        "out_w = np.random.randn(hd, out)"
      ]
    },
    {
      "cell_type": "code",
      "execution_count": null,
      "id": "b2ddd59d",
      "metadata": {
        "id": "b2ddd59d"
      },
      "outputs": [],
      "source": [
        "acc_list = []"
      ]
    },
    {
      "cell_type": "code",
      "execution_count": null,
      "id": "de1c519b",
      "metadata": {
        "colab": {
          "base_uri": "https://localhost:8080/"
        },
        "id": "de1c519b",
        "outputId": "09954d8f-d13a-439c-aaf0-e534f4b423c9"
      },
      "outputs": [
        {
          "output_type": "stream",
          "name": "stdout",
          "text": [
            "Time Cost for Setting HyperParameters: 0.041972 seconds \n",
            " \n"
          ]
        }
      ],
      "source": [
        "end_time = time.time()\n",
        "total_time = end_time - start_time\n",
        "print(\"Time Cost for Setting HyperParameters: %f seconds \\n \" %total_time)"
      ]
    },
    {
      "cell_type": "code",
      "execution_count": null,
      "id": "9596eb7a",
      "metadata": {
        "colab": {
          "base_uri": "https://localhost:8080/"
        },
        "id": "9596eb7a",
        "outputId": "dd0bd274-3513-4df1-bbca-4dcd0c66ff94"
      },
      "outputs": [
        {
          "output_type": "stream",
          "name": "stdout",
          "text": [
            "............... Training Backpropagation Algorithm ................\n"
          ]
        }
      ],
      "source": [
        "print(\"............... Training Backpropagation Algorithm ................\")\n",
        "start_time = time.time()\n",
        "for i in range(epochs):\n",
        "    # Feedforward for 4 hidden layers by calling activation function\n",
        "    l1 = np.dot(x_train, w1_l1)\n",
        "    l1_out = hyperbolic_tanh(l1)\n",
        "\n",
        "    l2 = np.dot(l1_out, w2_l2)\n",
        "    l2_out = hyperbolic_tanh(l2)\n",
        "\n",
        "    l3 = np.dot(l2_out, w3_l3)\n",
        "    l3_out = hyperbolic_tanh(l3)\n",
        "\n",
        "    l4 = np.dot(l3_out, w4_l4)\n",
        "    l4_out = hyperbolic_tanh(l4)\n",
        "\n",
        "    output = np.dot(l4_out, out_w)\n",
        "    final_out = hyperbolic_tanh(output)\n",
        "\n",
        "    # Calculate accuracy\n",
        "    final_out = final_out.round()\n",
        "    calc_acc = (final_out == y_train).sum()\n",
        "    acc = calc_acc / actual_out_size\n",
        "    acc_list.append(acc)\n",
        "\n",
        "    # Backpropagation for 4 hidden layers\n",
        "    final_err = final_out - y_train\n",
        "    final_sigmoid_derivative = final_err * derivative_hyperbolic(final_out)\n",
        "\n",
        "    l4_err = np.dot(final_sigmoid_derivative, out_w.T)\n",
        "    l4_derivative = l4_err * derivative_hyperbolic(l4_out)\n",
        "\n",
        "    l3_err = np.dot(l4_derivative, w4_l4.T)\n",
        "    l3_derivative = l3_err * derivative_hyperbolic(l3_out)\n",
        "\n",
        "    l2_err = np.dot(l3_derivative, w3_l3.T)\n",
        "    l2_derivative = l2_err * derivative_hyperbolic(l2_out)\n",
        "\n",
        "    l1_err = np.dot(l2_derivative, w2_l2.T)\n",
        "    l1_derivative = l1_err * derivative_hyperbolic(l1_out)\n",
        "\n",
        "\n",
        "    # Divide weights as per size of output\n",
        "    output_weights = np.dot(l4_out.T, final_sigmoid_derivative) / actual_out_size\n",
        "    weights4 = np.dot(l3_out.T, l4_derivative) / actual_out_size\n",
        "    weights3 = np.dot(l2_out.T, l3_derivative) / actual_out_size\n",
        "    weights2 = np.dot(l1_out.T, l2_derivative) / actual_out_size\n",
        "    weights1 = np.dot(x_train.T, l1_derivative) / actual_out_size\n",
        "\n",
        "    out_w -= eta * alpha * output_weights\n",
        "    w4_l4 -= eta * alpha * weights4\n",
        "    w3_l3 -= eta * alpha * weights3\n",
        "    w2_l2 -= eta * alpha * weights2\n",
        "    w1_l1 -= eta * alpha * weights1"
      ]
    },
    {
      "cell_type": "code",
      "execution_count": null,
      "id": "1545b4e6",
      "metadata": {
        "colab": {
          "base_uri": "https://localhost:8080/"
        },
        "id": "1545b4e6",
        "outputId": "20e8d562-af06-4d72-90e4-ac22cc2f68fd"
      },
      "outputs": [
        {
          "output_type": "stream",
          "name": "stdout",
          "text": [
            "Training Accuracy: 94.0 %\n",
            "Time Cost for Training algorithm: 37.403384 seconds \n",
            " \n"
          ]
        }
      ],
      "source": [
        "print(\"Training Accuracy: \"+str(round(acc_list[-1],2) * 100) + \" %\")\n",
        "end_time = time.time()\n",
        "total_time = end_time - start_time\n",
        "print(\"Time Cost for Training algorithm: %f seconds \\n \" %total_time)"
      ]
    },
    {
      "cell_type": "code",
      "execution_count": null,
      "id": "336b112a",
      "metadata": {
        "colab": {
          "base_uri": "https://localhost:8080/"
        },
        "id": "336b112a",
        "outputId": "c0667429-347b-4396-e185-91d68de5d117"
      },
      "outputs": [
        {
          "output_type": "stream",
          "name": "stdout",
          "text": [
            "............... Plotting Accuracy Curve ................\n"
          ]
        }
      ],
      "source": [
        "print(\"............... Plotting Accuracy Curve ................\")"
      ]
    },
    {
      "cell_type": "code",
      "execution_count": null,
      "id": "78287126",
      "metadata": {
        "colab": {
          "base_uri": "https://localhost:8080/",
          "height": 472
        },
        "id": "78287126",
        "outputId": "c6ecc9df-9c3c-4d61-b122-f66aa161368b"
      },
      "outputs": [
        {
          "output_type": "display_data",
          "data": {
            "text/plain": [
              "<Figure size 640x480 with 1 Axes>"
            ],
            "image/png": "[encoded data removed]"
          },
          "metadata": {}
        }
      ],
      "source": [
        "plt.title(\"Accuracy Curve\")\n",
        "plt.ylabel(\"Accuracy\")\n",
        "plt.xlabel(\"Epochs\")\n",
        "plt.plot(acc_list)\n",
        "plt.show()"
      ]
    },
    {
      "cell_type": "code",
      "execution_count": null,
      "id": "81ebc7eb",
      "metadata": {
        "colab": {
          "base_uri": "https://localhost:8080/"
        },
        "id": "81ebc7eb",
        "outputId": "f78cbaa3-1106-4d50-a5e7-efe01f3a700e"
      },
      "outputs": [
        {
          "output_type": "stream",
          "name": "stdout",
          "text": [
            "\n",
            "............... Testing Backpropagation Algorithm ................\n"
          ]
        }
      ],
      "source": [
        "print()\n",
        "print(\"............... Testing Backpropagation Algorithm ................\")\n",
        "start_time = time.time()"
      ]
    },
    {
      "cell_type": "code",
      "execution_count": null,
      "id": "57437440",
      "metadata": {
        "id": "57437440"
      },
      "outputs": [],
      "source": [
        "# Feedforward for 4 hidden layers by calling activation function\n",
        "l1_test = np.dot(x_test, w1_l1)\n",
        "l1_out_test = hyperbolic_tanh(l1_test)"
      ]
    },
    {
      "cell_type": "code",
      "execution_count": null,
      "id": "506aa719",
      "metadata": {
        "id": "506aa719"
      },
      "outputs": [],
      "source": [
        "l2_test = np.dot(l1_out_test, w2_l2)\n",
        "l2_out_test = hyperbolic_tanh(l2_test)"
      ]
    },
    {
      "cell_type": "code",
      "execution_count": null,
      "id": "abae7e49",
      "metadata": {
        "id": "abae7e49"
      },
      "outputs": [],
      "source": [
        "l3_test = np.dot(l2_out_test, w3_l3)\n",
        "l3_out = hyperbolic_tanh(l3_test)"
      ]
    },
    {
      "cell_type": "code",
      "execution_count": null,
      "id": "90141106",
      "metadata": {
        "id": "90141106"
      },
      "outputs": [],
      "source": [
        "l4_test = np.dot(l3_out, w4_l4)\n",
        "l4_out_test = hyperbolic_tanh(l4_test)"
      ]
    },
    {
      "cell_type": "code",
      "execution_count": null,
      "id": "8426fc81",
      "metadata": {
        "id": "8426fc81"
      },
      "outputs": [],
      "source": [
        "output_test = np.dot(l4_out_test, out_w)\n",
        "final_out_test = hyperbolic_tanh(output_test)"
      ]
    },
    {
      "cell_type": "code",
      "execution_count": null,
      "id": "4a375aab",
      "metadata": {
        "id": "4a375aab"
      },
      "outputs": [],
      "source": [
        "# Calculate accuracy\n",
        "actual_out_size = y_test.size\n",
        "final_out_test_acc = final_out_test.round()\n",
        "calc_acc = (final_out_test_acc == y_test).sum()\n",
        "acc_test = (calc_acc/ actual_out_size) * 100"
      ]
    },
    {
      "cell_type": "code",
      "execution_count": null,
      "id": "9059c88e",
      "metadata": {
        "id": "9059c88e"
      },
      "outputs": [],
      "source": []
    },
    {
      "cell_type": "code",
      "execution_count": null,
      "id": "7126251b",
      "metadata": {
        "colab": {
          "base_uri": "https://localhost:8080/"
        },
        "id": "7126251b",
        "outputId": "850b4e13-af12-4a07-fd57-99a9f7817058"
      },
      "outputs": [
        {
          "output_type": "stream",
          "name": "stdout",
          "text": [
            "Testing Accuracy: 98.18 %\n",
            "Time Cost for Testing algorithm: 0.110742 seconds \n",
            " \n"
          ]
        }
      ],
      "source": [
        "print(\"Testing Accuracy: \"+str(round(acc_test,2)) + \" %\")\n",
        "end_time = time.time()\n",
        "total_time = end_time - start_time\n",
        "print(\"Time Cost for Testing algorithm: %f seconds \\n \" %total_time)"
      ]
    },
    {
      "cell_type": "code",
      "execution_count": null,
      "id": "4a0c34c2",
      "metadata": {
        "colab": {
          "base_uri": "https://localhost:8080/"
        },
        "id": "4a0c34c2",
        "outputId": "348657a7-7476-4349-fe16-340bc17c16f3"
      },
      "outputs": [
        {
          "output_type": "stream",
          "name": "stdout",
          "text": [
            "[[ 0.74267614]\n",
            " [ 0.53799644]\n",
            " [-0.87724575]\n",
            " [-0.79325091]\n",
            " [ 0.62951275]\n",
            " [ 0.54630917]\n",
            " [ 0.90745311]\n",
            " [ 0.91858162]\n",
            " [-0.4190627 ]\n",
            " [-0.92030413]\n",
            " [ 0.6383142 ]\n",
            " [ 0.92240654]\n",
            " [-0.90479761]\n",
            " [ 0.91401357]\n",
            " [ 0.5399153 ]\n",
            " [ 0.90874242]\n",
            " [ 0.72456659]\n",
            " [ 0.69151609]\n",
            " [ 0.78632261]\n",
            " [-0.91695375]\n",
            " [ 0.75599232]\n",
            " [-0.91918037]\n",
            " [-0.93858651]\n",
            " [ 0.90074513]\n",
            " [ 0.93579765]\n",
            " [-0.92004865]\n",
            " [ 0.69029803]\n",
            " [ 0.91934609]\n",
            " [ 0.93575989]\n",
            " [ 0.71826504]\n",
            " [-0.91863456]\n",
            " [ 0.39052724]\n",
            " [-0.9202895 ]\n",
            " [ 0.65432079]\n",
            " [ 0.91817624]\n",
            " [-0.68750326]\n",
            " [-0.61211251]\n",
            " [-0.63884792]\n",
            " [ 0.63513732]\n",
            " [-0.92045553]\n",
            " [-0.71347904]\n",
            " [-0.66422556]\n",
            " [ 0.90591728]\n",
            " [ 0.89741342]\n",
            " [ 0.67579198]\n",
            " [ 0.92283792]\n",
            " [-0.92063837]\n",
            " [ 0.93740883]\n",
            " [-0.61228923]\n",
            " [ 0.92071353]\n",
            " [ 0.91771644]\n",
            " [ 0.93189872]\n",
            " [ 0.92512201]\n",
            " [ 0.92241268]\n",
            " [ 0.53960559]\n",
            " [-0.61242036]\n",
            " [ 0.92082628]\n",
            " [ 0.93574886]\n",
            " [ 0.89764875]\n",
            " [-0.79154699]\n",
            " [ 0.92281689]\n",
            " [-0.91641472]\n",
            " [ 0.67866743]\n",
            " [-0.91752258]\n",
            " [ 0.67104948]\n",
            " [-0.9154168 ]\n",
            " [-0.6373701 ]\n",
            " [-0.92097904]\n",
            " [ 0.69493193]\n",
            " [ 0.92236354]\n",
            " [-0.69667699]\n",
            " [-0.92134087]\n",
            " [-0.91405051]\n",
            " [ 0.87024124]\n",
            " [-0.86279023]\n",
            " [ 0.91818028]\n",
            " [ 0.91418677]\n",
            " [-0.91737757]\n",
            " [ 0.68579819]\n",
            " [-0.92123519]\n",
            " [ 0.53738338]\n",
            " [ 0.88391863]\n",
            " [ 0.7876282 ]\n",
            " [ 0.91751488]\n",
            " [ 0.89537535]\n",
            " [ 0.67571382]\n",
            " [-0.84510805]\n",
            " [-0.71910139]\n",
            " [-0.66261816]\n",
            " [-0.96553414]\n",
            " [ 0.60976215]\n",
            " [-0.91923203]\n",
            " [ 0.89102635]\n",
            " [-0.91980749]\n",
            " [ 0.91680095]\n",
            " [-0.91965026]\n",
            " [ 0.89801001]\n",
            " [ 0.91347432]\n",
            " [-0.9368101 ]\n",
            " [-0.88121422]\n",
            " [-0.6458377 ]\n",
            " [-0.73085701]\n",
            " [ 0.91793569]\n",
            " [-0.66821768]\n",
            " [ 0.62313678]\n",
            " [-0.6497749 ]\n",
            " [-0.77392522]\n",
            " [ 0.91249183]\n",
            " [-0.67402949]\n",
            " [-0.7460565 ]\n",
            " [ 0.88674594]\n",
            " [ 0.94526242]\n",
            " [-0.92253721]\n",
            " [-0.91972404]\n",
            " [-0.92315935]\n",
            " [-0.54242258]\n",
            " [-0.91797669]\n",
            " [ 0.91351616]\n",
            " [ 0.86938568]\n",
            " [ 0.91827852]\n",
            " [-0.92523449]\n",
            " [ 0.44182974]\n",
            " [ 0.91774109]\n",
            " [ 0.68086133]\n",
            " [-0.92081522]\n",
            " [-0.68886565]\n",
            " [-0.76866277]\n",
            " [ 0.81845422]\n",
            " [ 0.91554325]\n",
            " [-0.73289762]\n",
            " [ 0.65837246]\n",
            " [ 0.91134845]\n",
            " [-0.9391201 ]\n",
            " [ 0.66065478]\n",
            " [-0.87661503]\n",
            " [ 0.91048112]\n",
            " [-0.92098896]\n",
            " [ 0.91921797]\n",
            " [-0.81951883]\n",
            " [ 0.91489067]\n",
            " [-0.68583736]\n",
            " [ 0.52400788]\n",
            " [-0.65443146]\n",
            " [ 0.92081774]\n",
            " [-0.92140942]\n",
            " [ 0.91311048]\n",
            " [ 0.91716985]\n",
            " [-0.91558022]\n",
            " [-0.73122187]\n",
            " [-0.77529674]\n",
            " [ 0.91896514]\n",
            " [-0.88943705]\n",
            " [-0.76461232]\n",
            " [ 0.91679843]\n",
            " [-0.83542525]\n",
            " [-0.91272485]\n",
            " [-0.09303743]\n",
            " [-0.58179553]\n",
            " [-0.9209534 ]\n",
            " [ 0.91073744]\n",
            " [-0.91505554]\n",
            " [-0.80000848]\n",
            " [-0.62173249]\n",
            " [ 0.91928983]\n",
            " [-0.9187945 ]\n",
            " [-0.89349323]\n",
            " [ 0.90325526]\n",
            " [ 0.65423524]\n",
            " [-0.6813246 ]\n",
            " [ 0.92841756]\n",
            " [ 0.92180799]\n",
            " [ 0.91482234]\n",
            " [ 0.93012251]\n",
            " [-0.93807031]\n",
            " [ 0.91060059]\n",
            " [ 0.83338305]\n",
            " [ 0.9207975 ]\n",
            " [ 0.9036361 ]\n",
            " [ 0.91593357]\n",
            " [ 0.91483113]\n",
            " [ 0.91097519]\n",
            " [ 0.91771956]\n",
            " [-0.94033909]\n",
            " [-0.91950319]\n",
            " [-0.93465011]\n",
            " [ 0.91365348]\n",
            " [-0.9208438 ]\n",
            " [ 0.92643859]\n",
            " [ 0.9015505 ]\n",
            " [ 0.90831575]\n",
            " [-0.91941329]\n",
            " [ 0.91843648]\n",
            " [-0.61603837]\n",
            " [ 0.90161593]\n",
            " [-0.6732381 ]\n",
            " [-0.93457485]\n",
            " [ 0.81997141]\n",
            " [ 0.92286324]\n",
            " [-0.90322289]\n",
            " [ 0.74885492]\n",
            " [-0.92741623]\n",
            " [ 0.9171561 ]\n",
            " [ 0.67983184]\n",
            " [ 0.65389485]\n",
            " [ 0.91134411]\n",
            " [ 0.91310025]\n",
            " [ 0.91308512]\n",
            " [ 0.91548149]\n",
            " [ 0.9134995 ]\n",
            " [ 0.90864004]\n",
            " [ 0.92104613]\n",
            " [-0.91896033]\n",
            " [-0.9173394 ]\n",
            " [ 0.75537189]\n",
            " [ 0.90101547]\n",
            " [-0.76794694]\n",
            " [ 0.91794135]\n",
            " [ 0.92191454]\n",
            " [ 0.94883606]\n",
            " [-0.64386554]\n",
            " [ 0.61068966]\n",
            " [-0.92037234]\n",
            " [ 0.63666509]\n",
            " [-0.67918588]\n",
            " [ 0.89527217]\n",
            " [ 0.75634365]\n",
            " [-0.91348627]\n",
            " [ 0.57891448]\n",
            " [-0.64561739]\n",
            " [ 0.91003232]\n",
            " [-0.92012272]\n",
            " [ 0.82785708]\n",
            " [ 0.2692153 ]\n",
            " [ 0.90413468]\n",
            " [ 0.91393653]\n",
            " [ 0.89557949]\n",
            " [-0.92220499]\n",
            " [ 0.65776224]\n",
            " [-0.919809  ]\n",
            " [ 0.91096591]\n",
            " [ 0.93155012]\n",
            " [-0.92232983]\n",
            " [ 0.91291565]\n",
            " [-0.66646652]\n",
            " [ 0.7158387 ]\n",
            " [-0.91584618]\n",
            " [-0.94256516]\n",
            " [ 0.91396322]\n",
            " [-0.69593587]\n",
            " [-0.92010595]\n",
            " [ 0.91780419]\n",
            " [ 0.91075034]\n",
            " [ 0.69237655]\n",
            " [-0.91310396]\n",
            " [-0.92117964]\n",
            " [ 0.93929478]\n",
            " [-0.92228538]\n",
            " [-0.91403107]\n",
            " [ 0.92245863]\n",
            " [-0.91673811]\n",
            " [ 0.88997562]\n",
            " [ 0.9164636 ]\n",
            " [-0.9184428 ]\n",
            " [-0.73944181]\n",
            " [ 0.91382616]\n",
            " [-0.93045388]\n",
            " [ 0.85071778]\n",
            " [ 0.86159253]\n",
            " [ 0.66179295]\n",
            " [ 0.68103755]\n",
            " [-0.8886066 ]\n",
            " [ 0.91193386]\n",
            " [ 0.92813761]\n",
            " [ 0.77075768]\n",
            " [ 0.89666669]]\n"
          ]
        }
      ],
      "source": [
        "print(final_out_test)"
      ]
    }
  ],
  "metadata": {
    "jupytext": {
      "cell_metadata_filter": "-all",
      "main_language": "python",
      "notebook_metadata_filter": "-all"
    },
    "colab": {
      "provenance": []
    },
    "language_info": {
      "name": "python"
    },
    "kernelspec": {
      "name": "python3",
      "display_name": "Python 3"
    }
  },
  "nbformat": 4,
  "nbformat_minor": 5
}